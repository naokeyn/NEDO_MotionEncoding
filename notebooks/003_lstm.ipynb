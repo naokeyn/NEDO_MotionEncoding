{
 "cells": [
  {
   "cell_type": "code",
   "execution_count": 4,
   "metadata": {},
   "outputs": [],
   "source": [
    "import os, json, gc\n",
    "from time import time\n",
    "from tqdm.notebook import tqdm\n",
    "\n",
    "import numpy as np\n",
    "import pandas as pd\n",
    "import matplotlib.pyplot as plt\n",
    "import seaborn as sns\n",
    "\n",
    "import scipy.io as sio\n",
    "from sklearn.model_selection import GroupKFold\n",
    "from sklearn.metrics import mean_squared_error\n",
    "\n",
    "import torch\n",
    "from torch import nn"
   ]
  },
  {
   "cell_type": "code",
   "execution_count": 5,
   "metadata": {},
   "outputs": [
    {
     "data": {
      "text/plain": [
       "'cpu'"
      ]
     },
     "execution_count": 5,
     "metadata": {},
     "output_type": "execute_result"
    }
   ],
   "source": [
    "device = \"cuda\" if torch.cuda.is_available() else \"cpu\"\n",
    "device"
   ]
  },
  {
   "cell_type": "code",
   "execution_count": 6,
   "metadata": {},
   "outputs": [],
   "source": [
    "train = sio.loadmat(\"../data/train.mat\")\n",
    "test = sio.loadmat(\"../data/test.mat\")\n",
    "ref = sio.loadmat(\"../data/reference.mat\")"
   ]
  },
  {
   "cell_type": "code",
   "execution_count": 7,
   "metadata": {},
   "outputs": [],
   "source": [
    "feature_name = ['TA R', 'TA L', 'LG R', 'LG L', 'RF R', 'RF L', 'VL R', 'VL L', 'ST R',\n",
    "                'ST L', 'GMAX R', 'GMAX L', 'EMI R', 'EMI L', 'DEL R', 'DEL L']"
   ]
  },
  {
   "cell_type": "code",
   "execution_count": 8,
   "metadata": {},
   "outputs": [
    {
     "data": {
      "text/plain": [
       "(319, 16, 1000)"
      ]
     },
     "execution_count": 8,
     "metadata": {},
     "output_type": "execute_result"
    }
   ],
   "source": [
    "sample_x = train[\"0001\"][0][0][0]\n",
    "sample_x.shape"
   ]
  },
  {
   "cell_type": "code",
   "execution_count": 9,
   "metadata": {},
   "outputs": [
    {
     "name": "stdout",
     "output_type": "stream",
     "text": [
      "(16, 1000) (30,)\n"
     ]
    }
   ],
   "source": [
    "class TrainSet(torch.utils.data.Dataset):\n",
    "    \n",
    "    user_ids = [\"0001\", \"0002\", \"0003\", \"0004\"]\n",
    "    \n",
    "    def __init__(self):\n",
    "        super().__init__()\n",
    "        \n",
    "        # データの読み込み\n",
    "        self.raw_set = sio.loadmat(\"../data/train.mat\")\n",
    "        \n",
    "        # 各ユーザーの試行回数を格納\n",
    "        self.trials = [self.raw_set[user_id][0][0][0].shape[0] for user_id in self.user_ids]\n",
    "        \n",
    "        \n",
    "    def __len__(self):\n",
    "        return sum(self.trials)\n",
    "    \n",
    "    def __getitem__(self, idx):\n",
    "        user_idx = 0\n",
    "        # ユーザーの試行回数に応じてidxを再取得\n",
    "        while idx >= self.trials[user_idx]:\n",
    "            idx -= self.trials[user_idx]\n",
    "            user_idx += 1\n",
    "        \n",
    "        x = self.raw_set[self.user_ids[user_idx]][0][0][0][idx, :, :]\n",
    "        y = self.raw_set[self.user_ids[user_idx]][0][0][1][idx, 0, :]\n",
    "        \n",
    "        return x, y\n",
    "\n",
    "train_dataset = TrainSet()\n",
    "# print(len(train_dataset))\n",
    "x, y = next(iter(train_dataset))\n",
    "print(x.shape, y.shape)"
   ]
  },
  {
   "cell_type": "code",
   "execution_count": 80,
   "metadata": {},
   "outputs": [],
   "source": [
    "mlp_model = nn.Sequential(\n",
    "    nn.Flatten(),\n",
    "    nn.Linear(16000, 500, dtype=torch.float32),\n",
    "    nn.ReLU(),\n",
    "    nn.Linear(500, 100, dtype=torch.float32),\n",
    "    nn.ReLU(),\n",
    "    nn.Linear(100, 30, dtype=torch.float32)\n",
    ")"
   ]
  },
  {
   "cell_type": "code",
   "execution_count": 81,
   "metadata": {},
   "outputs": [
    {
     "data": {
      "application/vnd.jupyter.widget-view+json": {
       "model_id": "8ed845fb8aac4f368c569bae7f6178c2",
       "version_major": 2,
       "version_minor": 0
      },
      "text/plain": [
       "  0%|          | 0/30 [00:00<?, ?it/s]"
      ]
     },
     "metadata": {},
     "output_type": "display_data"
    },
    {
     "name": "stdout",
     "output_type": "stream",
     "text": [
      "[Epoch 0] train loss: 6097.63697\n",
      "[Epoch 1] train loss: 4771.29082\n",
      "[Epoch 2] train loss: 2429.14840\n",
      "[Epoch 3] train loss: 1585.34191\n",
      "[Epoch 4] train loss: 976.67872\n",
      "[Epoch 5] train loss: 917.52561\n",
      "[Epoch 6] train loss: 789.98139\n",
      "[Epoch 7] train loss: 667.40199\n",
      "[Epoch 8] train loss: 601.96151\n",
      "[Epoch 9] train loss: 552.19335\n",
      "[Epoch 10] train loss: 572.72941\n",
      "[Epoch 11] train loss: 463.98219\n",
      "[Epoch 12] train loss: 396.66656\n",
      "[Epoch 13] train loss: 425.46143\n",
      "[Epoch 14] train loss: 410.37514\n",
      "[Epoch 15] train loss: 395.03054\n",
      "[Epoch 16] train loss: 413.01845\n",
      "[Epoch 17] train loss: 358.20491\n",
      "[Epoch 18] train loss: 325.96439\n",
      "[Epoch 19] train loss: 319.63059\n",
      "[Epoch 20] train loss: 295.98485\n",
      "[Epoch 21] train loss: 284.74734\n",
      "[Epoch 22] train loss: 244.76515\n",
      "[Epoch 23] train loss: 294.02749\n",
      "[Epoch 24] train loss: 313.13291\n",
      "[Epoch 25] train loss: 245.44998\n",
      "[Epoch 26] train loss: 235.52356\n",
      "[Epoch 27] train loss: 233.96754\n",
      "[Epoch 28] train loss: 244.71504\n",
      "[Epoch 29] train loss: 226.17032\n"
     ]
    }
   ],
   "source": [
    "batch_size = 1\n",
    "num_workers = 0\n",
    "epochs = 30\n",
    "\n",
    "train_loader = torch.utils.data.DataLoader(\n",
    "    train_dataset,\n",
    "    batch_size=batch_size,\n",
    "    shuffle=True,\n",
    "    num_workers=num_workers\n",
    ")\n",
    "\n",
    "loss_fn = nn.MSELoss()\n",
    "optimizer = torch.optim.Adam(mlp_model.parameters())\n",
    "\n",
    "def train_1epoch():\n",
    "    runnning_loss = 0\n",
    "    \n",
    "    for i, data in enumerate(train_loader):\n",
    "        x, y = data\n",
    "        optimizer.zero_grad()\n",
    "        \n",
    "        output = mlp_model(x.to(torch.float32))\n",
    "\n",
    "        loss = loss_fn(output.to(torch.float32), y.to(torch.float32))\n",
    "        loss.backward()\n",
    "        \n",
    "        optimizer.step()\n",
    "        \n",
    "        runnning_loss += loss.item()\n",
    "    \n",
    "    return runnning_loss\n",
    "\n",
    "train_history = []\n",
    "mlp_model.to(device)\n",
    "for epoch in tqdm(range(epochs)):\n",
    "    mlp_model.train()\n",
    "    train_loss = train_1epoch()\n",
    "    print(f\"[Epoch {epoch}] train loss: {train_loss:.5f}\")\n",
    "    train_history.append(train_loss)"
   ]
  },
  {
   "cell_type": "code",
   "execution_count": 82,
   "metadata": {},
   "outputs": [
    {
     "data": {
      "image/png": "[encoded data removed]",
      "text/plain": [
       "<Figure size 640x480 with 1 Axes>"
      ]
     },
     "metadata": {},
     "output_type": "display_data"
    }
   ],
   "source": [
    "plt.plot(train_history, label=\"Training loss\")\n",
    "plt.legend()\n",
    "plt.xlabel(\"Epochs\")\n",
    "plt.ylabel(\"Loss\")\n",
    "plt.show()"
   ]
  },
  {
   "cell_type": "code",
   "execution_count": 84,
   "metadata": {},
   "outputs": [],
   "source": [
    "torch.save(mlp_model, \"../models/mlp_test.pt\")"
   ]
  },
  {
   "cell_type": "code",
   "execution_count": 18,
   "metadata": {},
   "outputs": [
    {
     "name": "stdout",
     "output_type": "stream",
     "text": [
      "(1000, 16) (30,)\n",
      "torch.Size([32, 30])\n"
     ]
    }
   ],
   "source": [
    "import torch\n",
    "import torch.nn as nn\n",
    "\n",
    "# データセット定義\n",
    "class TrainSet(torch.utils.data.Dataset):\n",
    "    \n",
    "    user_ids = [\"0001\", \"0002\", \"0003\", \"0004\"]\n",
    "    \n",
    "    def __init__(self):\n",
    "        super().__init__()\n",
    "        \n",
    "        # データの読み込み\n",
    "        self.raw_set = sio.loadmat(\"../data/train.mat\")\n",
    "        \n",
    "        # 各ユーザーの試行回数を格納\n",
    "        self.trials = [self.raw_set[user_id][0][0][0].shape[0] for user_id in self.user_ids]\n",
    "        \n",
    "        \n",
    "    def __len__(self):\n",
    "        return sum(self.trials)\n",
    "    \n",
    "    def __getitem__(self, idx):\n",
    "        user_idx = 0\n",
    "        # ユーザーの試行回数に応じてidxを再取得\n",
    "        while idx >= self.trials[user_idx]:\n",
    "            idx -= self.trials[user_idx]\n",
    "            user_idx += 1\n",
    "        \n",
    "        x = self.raw_set[self.user_ids[user_idx]][0][0][0][idx, :, :]\n",
    "        x = x.reshape(1000, 16)\n",
    "        y = self.raw_set[self.user_ids[user_idx]][0][0][1][idx, 0, :]\n",
    "        \n",
    "        return x, y\n",
    "\n",
    "train_dataset = TrainSet()\n",
    "# print(len(train_dataset))\n",
    "x, y = next(iter(train_dataset))\n",
    "print(x.shape, y.shape)\n",
    "\n",
    "# モデル定義\n",
    "class LSTMModel(nn.Module):\n",
    "    def __init__(self, input_size, hidden_size, output_size, num_layers=1):\n",
    "        super(LSTMModel, self).__init__()\n",
    "        self.hidden_size = hidden_size\n",
    "        self.num_layers = num_layers\n",
    "        # LSTM層の定義\n",
    "        self.lstm = nn.LSTM(input_size, hidden_size, num_layers, batch_first=True)\n",
    "        # 全結合層の定義 (hidden_size -> output_size)\n",
    "        self.fc = nn.Linear(hidden_size, output_size)\n",
    "\n",
    "    def forward(self, x):\n",
    "        # 初期隠れ状態とセル状態をゼロで初期化\n",
    "        h0 = torch.zeros(self.num_layers, x.size(0), self.hidden_size).to(x.device)\n",
    "        c0 = torch.zeros(self.num_layers, x.size(0), self.hidden_size).to(x.device)\n",
    "        \n",
    "        # LSTM層への入力\n",
    "        out, _ = self.lstm(x, (h0, c0))  # out: (batch_size, seq_length, hidden_size)\n",
    "        \n",
    "        # 最後の時刻の出力を取得\n",
    "        out = out[:, -1, :]  # (batch_size, hidden_size)\n",
    "        \n",
    "        # 全結合層に通す\n",
    "        out = self.fc(out)  # (batch_size, output_size)\n",
    "        \n",
    "        return out\n",
    "\n",
    "# ハイパーパラメータ\n",
    "input_size = 16  # 各特徴の次元数\n",
    "sequence_length = 1000  # シーケンスの長さ（特徴数）\n",
    "hidden_size = 128  # 隠れ層の次元数\n",
    "output_size = 30   # 出力の次元数\n",
    "num_layers = 2     # LSTM層の数\n",
    "\n",
    "# モデル初期化\n",
    "model = LSTMModel(input_size, hidden_size, output_size, num_layers)\n",
    "\n",
    "# ダミー入力データ (batch_size=32, sequence_length=16, input_size=1000)\n",
    "x = torch.randn(32, sequence_length, input_size)  # batch_size = 32\n",
    "\n",
    "# モデルの出力\n",
    "y = model(x)\n",
    "print(y.shape)  # 出力サイズの確認 (32, 30)\n"
   ]
  },
  {
   "cell_type": "code",
   "execution_count": 21,
   "metadata": {},
   "outputs": [
    {
     "data": {
      "application/vnd.jupyter.widget-view+json": {
       "model_id": "4cc805bae08a470ca95c4845a561605a",
       "version_major": 2,
       "version_minor": 0
      },
      "text/plain": [
       "  0%|          | 0/10 [00:00<?, ?it/s]"
      ]
     },
     "metadata": {},
     "output_type": "display_data"
    },
    {
     "data": {
      "application/vnd.jupyter.widget-view+json": {
       "model_id": "a10ec9738c1f455fb3adf362045b9020",
       "version_major": 2,
       "version_minor": 0
      },
      "text/plain": [
       "  0%|          | 0/125 [00:00<?, ?it/s]"
      ]
     },
     "metadata": {},
     "output_type": "display_data"
    },
    {
     "name": "stdout",
     "output_type": "stream",
     "text": [
      "[Epoch 0] train loss: 567.03346\n"
     ]
    },
    {
     "data": {
      "application/vnd.jupyter.widget-view+json": {
       "model_id": "1e6bf869d27340e89389d4ad650b4746",
       "version_major": 2,
       "version_minor": 0
      },
      "text/plain": [
       "  0%|          | 0/125 [00:00<?, ?it/s]"
      ]
     },
     "metadata": {},
     "output_type": "display_data"
    },
    {
     "name": "stdout",
     "output_type": "stream",
     "text": [
      "[Epoch 1] train loss: 561.94236\n"
     ]
    },
    {
     "data": {
      "application/vnd.jupyter.widget-view+json": {
       "model_id": "f9e572e253a046c89c694ad146a8e667",
       "version_major": 2,
       "version_minor": 0
      },
      "text/plain": [
       "  0%|          | 0/125 [00:00<?, ?it/s]"
      ]
     },
     "metadata": {},
     "output_type": "display_data"
    },
    {
     "name": "stdout",
     "output_type": "stream",
     "text": [
      "[Epoch 2] train loss: 562.40716\n"
     ]
    },
    {
     "data": {
      "application/vnd.jupyter.widget-view+json": {
       "model_id": "dd135ca209ed44d78ee7728eb9af9614",
       "version_major": 2,
       "version_minor": 0
      },
      "text/plain": [
       "  0%|          | 0/125 [00:00<?, ?it/s]"
      ]
     },
     "metadata": {},
     "output_type": "display_data"
    },
    {
     "name": "stdout",
     "output_type": "stream",
     "text": [
      "[Epoch 3] train loss: 562.86314\n"
     ]
    },
    {
     "data": {
      "application/vnd.jupyter.widget-view+json": {
       "model_id": "5d38bdc096114af8823d1257eed46c7f",
       "version_major": 2,
       "version_minor": 0
      },
      "text/plain": [
       "  0%|          | 0/125 [00:00<?, ?it/s]"
      ]
     },
     "metadata": {},
     "output_type": "display_data"
    },
    {
     "name": "stdout",
     "output_type": "stream",
     "text": [
      "[Epoch 4] train loss: 562.79548\n"
     ]
    },
    {
     "data": {
      "application/vnd.jupyter.widget-view+json": {
       "model_id": "e1fba745b1324d44a243612125cb8f64",
       "version_major": 2,
       "version_minor": 0
      },
      "text/plain": [
       "  0%|          | 0/125 [00:00<?, ?it/s]"
      ]
     },
     "metadata": {},
     "output_type": "display_data"
    },
    {
     "name": "stdout",
     "output_type": "stream",
     "text": [
      "[Epoch 5] train loss: 561.73739\n"
     ]
    },
    {
     "data": {
      "application/vnd.jupyter.widget-view+json": {
       "model_id": "8c3992eab2d142018e367a38c8607fdb",
       "version_major": 2,
       "version_minor": 0
      },
      "text/plain": [
       "  0%|          | 0/125 [00:00<?, ?it/s]"
      ]
     },
     "metadata": {},
     "output_type": "display_data"
    },
    {
     "name": "stdout",
     "output_type": "stream",
     "text": [
      "[Epoch 6] train loss: 559.85553\n"
     ]
    },
    {
     "data": {
      "application/vnd.jupyter.widget-view+json": {
       "model_id": "4af418e90d8a46c493916fb4f2f04e66",
       "version_major": 2,
       "version_minor": 0
      },
      "text/plain": [
       "  0%|          | 0/125 [00:00<?, ?it/s]"
      ]
     },
     "metadata": {},
     "output_type": "display_data"
    },
    {
     "name": "stdout",
     "output_type": "stream",
     "text": [
      "[Epoch 7] train loss: 561.71137\n"
     ]
    },
    {
     "data": {
      "application/vnd.jupyter.widget-view+json": {
       "model_id": "83f487545ce5403583b75bf1941a2014",
       "version_major": 2,
       "version_minor": 0
      },
      "text/plain": [
       "  0%|          | 0/125 [00:00<?, ?it/s]"
      ]
     },
     "metadata": {},
     "output_type": "display_data"
    },
    {
     "name": "stdout",
     "output_type": "stream",
     "text": [
      "[Epoch 8] train loss: 560.84077\n"
     ]
    },
    {
     "data": {
      "application/vnd.jupyter.widget-view+json": {
       "model_id": "01c4b51237c74bf6b56d7d660381e9cb",
       "version_major": 2,
       "version_minor": 0
      },
      "text/plain": [
       "  0%|          | 0/125 [00:00<?, ?it/s]"
      ]
     },
     "metadata": {},
     "output_type": "display_data"
    },
    {
     "name": "stdout",
     "output_type": "stream",
     "text": [
      "[Epoch 9] train loss: 561.73780\n"
     ]
    }
   ],
   "source": [
    "batch_size = 10\n",
    "num_workers = 0\n",
    "epochs = 10\n",
    "\n",
    "train_loader = torch.utils.data.DataLoader(\n",
    "    train_dataset,\n",
    "    batch_size=batch_size,\n",
    "    shuffle=True,\n",
    "    num_workers=num_workers\n",
    ")\n",
    "\n",
    "loss_fn = nn.MSELoss()\n",
    "optimizer = torch.optim.Adam(model.parameters())\n",
    "\n",
    "def train_1epoch():\n",
    "    runnning_loss = 0\n",
    "    \n",
    "    for data in tqdm(train_loader, total=len(train_dataset)//batch_size + 1):\n",
    "        x, y = data\n",
    "        optimizer.zero_grad()\n",
    "        \n",
    "        output = model(x.to(torch.float32))\n",
    "\n",
    "        loss = loss_fn(output.to(torch.float32), y.to(torch.float32))\n",
    "        loss.backward()\n",
    "        \n",
    "        optimizer.step()\n",
    "        \n",
    "        runnning_loss += loss.item()\n",
    "    \n",
    "    return runnning_loss\n",
    "\n",
    "train_history = []\n",
    "model.to(device)\n",
    "for epoch in tqdm(range(epochs)):\n",
    "    model.train()\n",
    "    train_loss = train_1epoch()\n",
    "    print(f\"[Epoch {epoch}] train loss: {train_loss:.5f}\")\n",
    "    train_history.append(train_loss)"
   ]
  },
  {
   "cell_type": "code",
   "execution_count": 22,
   "metadata": {},
   "outputs": [
    {
     "data": {
      "image/png": "[encoded data removed]",
      "text/plain": [
       "<Figure size 640x480 with 1 Axes>"
      ]
     },
     "metadata": {},
     "output_type": "display_data"
    }
   ],
   "source": [
    "plt.plot(train_history, label=\"Training loss\")\n",
    "plt.legend()\n",
    "plt.xlabel(\"Epochs\")\n",
    "plt.ylabel(\"Loss\")\n",
    "plt.show()"
   ]
  },
  {
   "cell_type": "code",
   "execution_count": 23,
   "metadata": {},
   "outputs": [],
   "source": [
    "torch.save(model, \"../models/lstm.pt\")"
   ]
  },
  {
   "cell_type": "code",
   "execution_count": null,
   "metadata": {},
   "outputs": [],
   "source": []
  }
 ],
 "metadata": {
  "kernelspec": {
   "display_name": ".venv",
   "language": "python",
   "name": "python3"
  },
  "language_info": {
   "codemirror_mode": {
    "name": "ipython",
    "version": 3
   },
   "file_extension": ".py",
   "mimetype": "text/x-python",
   "name": "python",
   "nbconvert_exporter": "python",
   "pygments_lexer": "ipython3",
   "version": "3.12.4"
  }
 },
 "nbformat": 4,
 "nbformat_minor": 2
}
